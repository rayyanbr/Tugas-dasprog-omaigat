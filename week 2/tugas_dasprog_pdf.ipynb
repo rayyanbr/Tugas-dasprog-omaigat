{
  "nbformat": 4,
  "nbformat_minor": 0,
  "metadata": {
    "colab": {
      "provenance": []
    },
    "kernelspec": {
      "name": "python3",
      "display_name": "Python 3"
    },
    "language_info": {
      "name": "python"
    }
  },
  "cells": [
    {
      "cell_type": "code",
      "execution_count": null,
      "metadata": {
        "colab": {
          "base_uri": "https://localhost:8080/"
        },
        "id": "IYfGq4UviN_r",
        "outputId": "102929f4-c6a6-4665-84c0-33e6d25b7d47"
      },
      "outputs": [
        {
          "output_type": "stream",
          "name": "stdout",
          "text": [
            "8\n"
          ]
        }
      ],
      "source": [
        "#1\n",
        "\n",
        "a, b, c = 2, 3, -1\n",
        "z = a * a + b - c\n",
        "print(z)"
      ]
    },
    {
      "cell_type": "code",
      "source": [
        "#2\n",
        "\n",
        "nama = \"Rayyan Binar\"\n",
        "Age = 18\n",
        "print(f\"Nama saya {nama}\")\n",
        "print(f\"Usia saya {Age} tahun\")"
      ],
      "metadata": {
        "colab": {
          "base_uri": "https://localhost:8080/"
        },
        "id": "Sw__rfmyiftY",
        "outputId": "cec472ea-9491-4552-c4f9-11b4821e62d8"
      },
      "execution_count": null,
      "outputs": [
        {
          "output_type": "stream",
          "name": "stdout",
          "text": [
            "Nama saya Rayyan Binar\n",
            "Usia saya 18 tahun\n"
          ]
        }
      ]
    },
    {
      "cell_type": "code",
      "source": [
        "#3\n",
        "\n",
        "apel, jeruk, anggur = 6000, 2000, 1000\n",
        "total = apel*3 + jeruk + anggur*2\n",
        "print(f\"Total Belanjaan : {total}\")\n"
      ],
      "metadata": {
        "colab": {
          "base_uri": "https://localhost:8080/"
        },
        "id": "AmgXRN7Yjpnz",
        "outputId": "5b0a5c8f-2b2c-48c5-f042-ad21de9bdf4c"
      },
      "execution_count": null,
      "outputs": [
        {
          "output_type": "stream",
          "name": "stdout",
          "text": [
            "Total Belanjaan : 22000\n"
          ]
        }
      ]
    },
    {
      "cell_type": "code",
      "source": [
        "#4\n",
        "\n",
        "mangga, melon, anggur = 3000, 10000, 3000\n",
        "uangAbdan = 20000\n",
        "total = mangga*2 + melon + anggur*3\n",
        "kembalian = uangAbdan - total\n",
        "print(f\"Kembalian : {abs(kembalian)}\")"
      ],
      "metadata": {
        "colab": {
          "base_uri": "https://localhost:8080/"
        },
        "id": "lvVgD69_kHwM",
        "outputId": "f626befd-941b-4d1a-8c62-e4553436ca1f"
      },
      "execution_count": null,
      "outputs": [
        {
          "output_type": "stream",
          "name": "stdout",
          "text": [
            "Kembalian : 5000\n"
          ]
        }
      ]
    },
    {
      "cell_type": "code",
      "source": [
        "#5\n",
        "\n",
        "A, N = map(int, input().split())\n",
        "total = A * N\n",
        "print(total)"
      ],
      "metadata": {
        "colab": {
          "base_uri": "https://localhost:8080/"
        },
        "id": "Vp2umoNrlRgj",
        "outputId": "82421cdc-71b7-4f1e-e578-eba8828816a1"
      },
      "execution_count": null,
      "outputs": [
        {
          "output_type": "stream",
          "name": "stdout",
          "text": [
            "5 5000\n",
            "25000\n"
          ]
        }
      ]
    },
    {
      "cell_type": "code",
      "source": [
        "#6\n",
        "\n",
        "a = int(input())\n",
        "c = int(input())\n",
        "b = int(c/a)\n",
        "print(b)"
      ],
      "metadata": {
        "colab": {
          "base_uri": "https://localhost:8080/"
        },
        "id": "Uv84IAdUmR5j",
        "outputId": "77c28adc-c4b6-4191-e03f-3bfa9ba932ee"
      },
      "execution_count": null,
      "outputs": [
        {
          "output_type": "stream",
          "name": "stdout",
          "text": [
            "2\n",
            "3\n",
            "1\n"
          ]
        }
      ]
    },
    {
      "cell_type": "code",
      "source": [
        "#7\n",
        "\n",
        "a, c, d = map(int, input().split())\n",
        "b = int((c + d) / a)\n",
        "print(b)"
      ],
      "metadata": {
        "colab": {
          "base_uri": "https://localhost:8080/"
        },
        "id": "i-QcqBsGnoSy",
        "outputId": "b833fd1e-261a-4e11-aef4-5c64944d466a"
      },
      "execution_count": null,
      "outputs": [
        {
          "output_type": "stream",
          "name": "stdout",
          "text": [
            "2 5 1\n",
            "3\n"
          ]
        }
      ]
    },
    {
      "cell_type": "code",
      "source": [
        "#8\n",
        "#abdan = a, kevin = b, arya = c, albert = d\n",
        "\n",
        "def transfer(x, y, hadiah):\n",
        "  hadiah[y] += hadiah[x]\n",
        "  hadiah[x] = 0\n",
        "  return hadiah\n",
        "\n",
        "a, b, c, d = map(int, input().split())\n",
        "hadiah = [a, b, c, d]\n",
        "\n",
        "transfer(0, 2, hadiah)\n",
        "transfer(3, 0, hadiah)\n",
        "transfer(1, 0, hadiah)\n",
        "transfer(0, 3, hadiah)\n",
        "transfer(3, 2, hadiah)\n",
        "\n",
        "print(*hadiah)\n",
        "\n",
        "\n"
      ],
      "metadata": {
        "colab": {
          "base_uri": "https://localhost:8080/"
        },
        "id": "_rRQdVtooANw",
        "outputId": "cee3b1f1-6ab6-4bb2-d128-3c806c65645a"
      },
      "execution_count": null,
      "outputs": [
        {
          "output_type": "stream",
          "name": "stdout",
          "text": [
            "4 5 1 7\n",
            "0 0 17 0\n"
          ]
        }
      ]
    },
    {
      "cell_type": "code",
      "source": [
        "#9\n",
        "\n",
        "a, b = map(int, input().split())\n",
        "c, d = map(int, input().split())\n",
        "\n",
        "a += c\n",
        "b += d\n",
        "hasil = list([a,b])\n",
        "\n",
        "print(*hasil[::-1])\n"
      ],
      "metadata": {
        "colab": {
          "base_uri": "https://localhost:8080/"
        },
        "id": "dNMW8t2_qjBQ",
        "outputId": "be4b7163-ac26-405f-f9dc-8a161e324955"
      },
      "execution_count": null,
      "outputs": [
        {
          "output_type": "stream",
          "name": "stdout",
          "text": [
            "1 2\n",
            "2 0\n",
            "2 3\n"
          ]
        }
      ]
    },
    {
      "cell_type": "code",
      "source": [
        "def update(a, b, c, d):\n",
        "  a += c\n",
        "  b += d\n",
        "  a, b = b, a\n",
        "  b -= a\n",
        "  a = c // a\n",
        "  b = b * a\n",
        "  return a, b\n",
        "\n",
        "\n",
        "a, b = map(int, input().split())\n",
        "c, d = map(int, input().split())\n",
        "\n",
        "a, b = update(a, b, c, d)\n",
        "print(a, b)\n"
      ],
      "metadata": {
        "colab": {
          "base_uri": "https://localhost:8080/"
        },
        "id": "7a1IW2ZDnVyR",
        "outputId": "e2ed09b7-fccd-44f0-9cfd-c596a5524acf"
      },
      "execution_count": null,
      "outputs": [
        {
          "output_type": "stream",
          "name": "stdout",
          "text": [
            "1 2\n",
            "2 0\n",
            "1 1\n"
          ]
        }
      ]
    },
    {
      "cell_type": "code",
      "source": [
        "a = int(input())\n",
        "if a > 4:\n",
        "  print(\"HUJANDERAS\")\n",
        "else:\n",
        "  print(\"PANAS\")"
      ],
      "metadata": {
        "id": "V0HPpicB5ng3"
      },
      "execution_count": null,
      "outputs": []
    },
    {
      "cell_type": "code",
      "source": [
        "a = int(input())\n",
        "if a - 3 > 1:\n",
        "  print(\"HUJANDERAS\")\n",
        "else:\n",
        "  print(\"PANAS\")"
      ],
      "metadata": {
        "colab": {
          "base_uri": "https://localhost:8080/"
        },
        "id": "21v5ZMaT5ofG",
        "outputId": "0cc40363-459b-49d1-f209-7c1f059a5f45"
      },
      "execution_count": null,
      "outputs": [
        {
          "output_type": "stream",
          "name": "stdout",
          "text": [
            "5 \n",
            "HUJANDERAS\n"
          ]
        }
      ]
    },
    {
      "cell_type": "code",
      "source": [
        "a = int(input())\n",
        "if a % 5 == 2:\n",
        "  print(\"HUJANDERAS\")\n",
        "else:\n",
        "  print(\"PANAS\")"
      ],
      "metadata": {
        "colab": {
          "base_uri": "https://localhost:8080/"
        },
        "id": "UIO04B76-Rlq",
        "outputId": "63cefac7-e97b-4835-b354-fcaff299e8fb"
      },
      "execution_count": null,
      "outputs": [
        {
          "output_type": "stream",
          "name": "stdout",
          "text": [
            "7\n",
            "HUJANDERAS\n"
          ]
        }
      ]
    },
    {
      "cell_type": "code",
      "source": [
        "n = list(map(int, input().split()))\n",
        "if n[0] % n[1] == 0:\n",
        "  print(\"BISA\")\n",
        "else:\n",
        "  print(\"MAAF\")"
      ],
      "metadata": {
        "colab": {
          "base_uri": "https://localhost:8080/"
        },
        "id": "Cmjm1sy3I11V",
        "outputId": "f66b5419-8765-4731-9b88-f74094c84772"
      },
      "execution_count": null,
      "outputs": [
        {
          "output_type": "stream",
          "name": "stdout",
          "text": [
            "5 3\n",
            "MAAF\n"
          ]
        }
      ]
    },
    {
      "cell_type": "code",
      "source": [
        "x, y, z = map(int, input().split())\n",
        "if (x + z) % y == 0:\n",
        "  print(\"BISA\")\n",
        "else:\n",
        "  print(\"MAAF\")"
      ],
      "metadata": {
        "colab": {
          "base_uri": "https://localhost:8080/"
        },
        "id": "khGFEQ59MJxa",
        "outputId": "67709eb1-101f-45d4-885f-3a742fcb8e2a"
      },
      "execution_count": null,
      "outputs": [
        {
          "output_type": "stream",
          "name": "stdout",
          "text": [
            "4 2 1\n",
            "MAAF\n"
          ]
        }
      ]
    },
    {
      "cell_type": "code",
      "source": [
        "S = input()\n",
        "if S == \"kevin\":\n",
        "  print(f\"nama saya {S}\")\n",
        "else:\n",
        "  print(f\"nama saya kevin, bukan {S}\")"
      ],
      "metadata": {
        "colab": {
          "base_uri": "https://localhost:8080/"
        },
        "id": "-1R0kamKMgT-",
        "outputId": "aedf9720-df4c-4fa0-d867-f88898c89b23"
      },
      "execution_count": null,
      "outputs": [
        {
          "output_type": "stream",
          "name": "stdout",
          "text": [
            "dani\n",
            "nama saya kevin, bukan dani\n"
          ]
        }
      ]
    },
    {
      "cell_type": "code",
      "source": [
        "n, m = map(int, input().split())\n",
        "if n > m:\n",
        "  print(\"Kevin\")\n",
        "elif n < m:\n",
        "  print(\"Abdan\")\n",
        "else:\n",
        "  print(\"seri\")"
      ],
      "metadata": {
        "colab": {
          "base_uri": "https://localhost:8080/"
        },
        "id": "K9LwUaorNfza",
        "outputId": "9fe5aeef-aee0-4ab2-8897-2d13ecab1a68"
      },
      "execution_count": null,
      "outputs": [
        {
          "output_type": "stream",
          "name": "stdout",
          "text": [
            "3 3\n",
            "seri\n"
          ]
        }
      ]
    },
    {
      "cell_type": "code",
      "source": [
        "n = int(input())\n",
        "if n >= 100 and n < 1000:\n",
        "  print(\"ya\")\n",
        "else:\n",
        "  print(\"tidak\")"
      ],
      "metadata": {
        "colab": {
          "base_uri": "https://localhost:8080/"
        },
        "id": "G0wZmp3fN-T3",
        "outputId": "0db1fd16-bf40-44c7-cbc1-ac478577072e"
      },
      "execution_count": null,
      "outputs": [
        {
          "output_type": "stream",
          "name": "stdout",
          "text": [
            "999\n",
            "ya\n"
          ]
        }
      ]
    },
    {
      "cell_type": "code",
      "source": [
        "x = int(input())\n",
        "while x < 1000:\n",
        "  if 0 < x < 10:\n",
        "    print(\"satuan\")\n",
        "    break\n",
        "  elif 10 <= x < 100:\n",
        "    print(\"puluhan\")\n",
        "    break\n",
        "  else:\n",
        "    print(\"ratusan\")\n",
        "    break\n",
        "else:\n",
        "  print(\"lebih dari ratusan\")"
      ],
      "metadata": {
        "id": "8B1in5MpPUh_",
        "colab": {
          "base_uri": "https://localhost:8080/"
        },
        "outputId": "b7191454-cb1e-43f7-baf7-87d38efeb67c"
      },
      "execution_count": null,
      "outputs": [
        {
          "output_type": "stream",
          "name": "stdout",
          "text": [
            "1052\n",
            "lebih dari ratusan\n"
          ]
        }
      ]
    },
    {
      "cell_type": "code",
      "source": [
        "n = int(input())\n",
        "if n < 899:\n",
        "  print(\"Bronze\")\n",
        "elif 899 < n < 1097:\n",
        "  print(\"Warrior\")\n",
        "elif 1098 < n < 3500:\n",
        "  print(\"Mythic\")\n",
        "elif 3501 < n < 4307:\n",
        "  print(\"Legend\")\n",
        "else:\n",
        "  print(\"Epic\")"
      ],
      "metadata": {
        "colab": {
          "base_uri": "https://localhost:8080/"
        },
        "id": "5w6W4MF1F9L6",
        "outputId": "05798a66-9694-44b9-e66d-ad55e4471ed9"
      },
      "execution_count": null,
      "outputs": [
        {
          "output_type": "stream",
          "name": "stdout",
          "text": [
            "695\n",
            "Bronze\n"
          ]
        }
      ]
    },
    {
      "cell_type": "code",
      "source": [
        "N = list(map(int, input().split()))\n",
        "x, y = map(int, input().split())\n",
        "\n",
        "N[y] += N[x]\n",
        "print(N[y])"
      ],
      "metadata": {
        "colab": {
          "base_uri": "https://localhost:8080/"
        },
        "id": "N42BdgefnTXg",
        "outputId": "5c6b9f6c-8072-4968-cbad-91f1db94528e"
      },
      "execution_count": null,
      "outputs": [
        {
          "output_type": "stream",
          "name": "stdout",
          "text": [
            "0 1 1 2 1\n",
            "1 2\n",
            "2\n"
          ]
        }
      ]
    },
    {
      "cell_type": "code",
      "source": [
        "N = int(input())\n",
        "for i in range(1, N + 1):\n",
        "  for j in range(1, i + 1):\n",
        "    print(j)\n"
      ],
      "metadata": {
        "colab": {
          "base_uri": "https://localhost:8080/"
        },
        "id": "3A8hu3Z2uxZ2",
        "outputId": "6e26617f-7963-4ff3-b40a-8ff65dac65de"
      },
      "execution_count": null,
      "outputs": [
        {
          "output_type": "stream",
          "name": "stdout",
          "text": [
            "3 \n",
            "1 \n",
            "1 2 \n",
            "1 2 3 \n"
          ]
        }
      ]
    },
    {
      "cell_type": "code",
      "source": [
        "N = int(input())\n",
        "for i in range(1, N + 1):\n",
        "  for j in range(1, i + 1):\n",
        "    print(\"#\", end=\"\")\n",
        "  print()"
      ],
      "metadata": {
        "colab": {
          "base_uri": "https://localhost:8080/"
        },
        "id": "wEGiNslh_Ciu",
        "outputId": "cc086c49-4041-4979-89fa-e3975721ad78"
      },
      "execution_count": null,
      "outputs": [
        {
          "output_type": "stream",
          "name": "stdout",
          "text": [
            "3\n",
            "#\n",
            "##\n",
            "###\n"
          ]
        }
      ]
    },
    {
      "cell_type": "code",
      "source": [
        "N = int(input())\n",
        "for i in range(1, N + 1):\n",
        "  for j in range(1, i + 1):\n",
        "    print(j, end=\"\")\n",
        "  print()"
      ],
      "metadata": {
        "colab": {
          "base_uri": "https://localhost:8080/"
        },
        "id": "_Va3s_zR_Z0n",
        "outputId": "f7183922-f401-423b-d0e4-73247ce2c8d7"
      },
      "execution_count": null,
      "outputs": [
        {
          "output_type": "stream",
          "name": "stdout",
          "text": [
            "3\n",
            "1\n",
            "12\n",
            "123\n"
          ]
        }
      ]
    },
    {
      "cell_type": "code",
      "source": [
        "N = int(input())\n",
        "for i in range(1, N + 1):\n",
        "  for j in range(i, 0, -1):\n",
        "    print(j, end=\"\")\n",
        "  print()"
      ],
      "metadata": {
        "colab": {
          "base_uri": "https://localhost:8080/"
        },
        "id": "tnuCuIWm_mGk",
        "outputId": "6cd36c27-c793-485e-fe66-4804ca1606e6"
      },
      "execution_count": null,
      "outputs": [
        {
          "output_type": "stream",
          "name": "stdout",
          "text": [
            "3\n",
            "1\n",
            "21\n",
            "321\n"
          ]
        }
      ]
    },
    {
      "cell_type": "code",
      "source": [
        "N = int(input())\n",
        "for i in range(N, 0, -1):\n",
        "  for j in range(i, 0, -1):\n",
        "    print(j, end=\"\")\n",
        "  print()"
      ],
      "metadata": {
        "colab": {
          "base_uri": "https://localhost:8080/"
        },
        "id": "C4V63SvLlttx",
        "outputId": "dd987e4a-2157-43f0-c1cf-976e32eb1749"
      },
      "execution_count": null,
      "outputs": [
        {
          "output_type": "stream",
          "name": "stdout",
          "text": [
            "3\n",
            "321\n",
            "21\n",
            "1\n"
          ]
        }
      ]
    },
    {
      "cell_type": "code",
      "source": [
        "n = int(input())\n",
        "if n % 2 == 0:\n",
        "  total = n * 0.5\n",
        "  print(total)\n",
        "elif n % 2 != 0:\n",
        "  total = n * 0.75\n",
        "  print(total)"
      ],
      "metadata": {
        "id": "HNX5me6F9-oN"
      },
      "execution_count": null,
      "outputs": []
    },
    {
      "cell_type": "code",
      "source": [
        "n = int(input())\n",
        "if n <= 0:\n",
        "    print(\"\")\n",
        "else:\n",
        "  pat = \"##**\"\n",
        "  result = pat[:min(n, 4)]\n",
        "  sisa = n - len(result)\n",
        "  for i in range(sisa):\n",
        "      if i % 2 == 0:\n",
        "          result += \"#\"\n",
        "      else:\n",
        "          result += \"*\"\n",
        "  print(result)"
      ],
      "metadata": {
        "id": "8UIwRhsumPOI",
        "colab": {
          "base_uri": "https://localhost:8080/"
        },
        "outputId": "e5a10e37-d2b7-4e85-caf3-bbf647136a90"
      },
      "execution_count": null,
      "outputs": [
        {
          "output_type": "stream",
          "name": "stdout",
          "text": [
            "7\n",
            "##**#*#\n"
          ]
        }
      ]
    },
    {
      "cell_type": "code",
      "source": [
        "n = int(input())\n",
        "pattern = \"##**\"\n",
        "result = \"\"\n",
        "for i in range(n):\n",
        "  result += pattern[i % len(pattern)]\n",
        "print(result)"
      ],
      "metadata": {
        "colab": {
          "base_uri": "https://localhost:8080/"
        },
        "id": "s5MO-Upcnn85",
        "outputId": "18971036-efb8-4f58-db24-202923fb0c6a"
      },
      "execution_count": null,
      "outputs": [
        {
          "output_type": "stream",
          "name": "stdout",
          "text": [
            "15\n",
            "##**##**##**##*\n"
          ]
        }
      ]
    },
    {
      "cell_type": "code",
      "source": [
        "n, m = map(int, input().split())\n",
        "pattern = \"**##\"\n",
        "for i in range(n):\n",
        "  result = \"\"\n",
        "  for j in range(m):\n",
        "    if i % 2 == 0:\n",
        "      result += pattern[j % 4]\n",
        "    else:\n",
        "      result += pattern[(j + 2) % 4]\n",
        "  print(result)\n"
      ],
      "metadata": {
        "id": "XgnwZJNEWeo2",
        "colab": {
          "base_uri": "https://localhost:8080/"
        },
        "outputId": "b900166f-dbaa-46c3-c7f3-aa8f1d215a5c"
      },
      "execution_count": null,
      "outputs": [
        {
          "output_type": "stream",
          "name": "stdout",
          "text": [
            "3 6\n",
            "**##**\n",
            "##**##\n",
            "**##**\n"
          ]
        }
      ]
    },
    {
      "cell_type": "code",
      "source": [
        "n = int(input())\n",
        "result = \"\"\n",
        "for i in range(n):\n",
        "  if n % 2 == 0:\n",
        "    pattern = \"*#\"\n",
        "    result += pattern[i % 2]\n",
        "  else:\n",
        "    pattern = \"#*\"\n",
        "    result += pattern[i % 2]\n",
        "print(result)"
      ],
      "metadata": {
        "colab": {
          "base_uri": "https://localhost:8080/"
        },
        "id": "kNofZjcF0cNE",
        "outputId": "696c6158-2043-48ca-fb9b-918e2cdc026d"
      },
      "execution_count": null,
      "outputs": [
        {
          "output_type": "stream",
          "name": "stdout",
          "text": [
            "6\n",
            "*#*#*#\n"
          ]
        }
      ]
    },
    {
      "cell_type": "code",
      "source": [
        "n, m = map(int, input().split())\n",
        "pattern = \"#*\"\n",
        "for i in range(n):\n",
        "  result = \"\"\n",
        "  for j in range (m):\n",
        "    if i % 2 == 0:\n",
        "      result += pattern[j % 2]\n",
        "    else:\n",
        "      result += pattern[(j + 1) % 2]\n",
        "  print(result)"
      ],
      "metadata": {
        "id": "GbYY9y0d1894",
        "colab": {
          "base_uri": "https://localhost:8080/"
        },
        "outputId": "4f9ad219-7689-4d5f-fd85-c180277cf399"
      },
      "execution_count": null,
      "outputs": [
        {
          "output_type": "stream",
          "name": "stdout",
          "text": [
            "3 6\n",
            "#*#*#*\n",
            "*#*#*#\n",
            "#*#*#*\n"
          ]
        }
      ]
    },
    {
      "cell_type": "code",
      "source": [],
      "metadata": {
        "id": "hMaiV_RxW6l6"
      },
      "execution_count": null,
      "outputs": []
    }
  ]
}