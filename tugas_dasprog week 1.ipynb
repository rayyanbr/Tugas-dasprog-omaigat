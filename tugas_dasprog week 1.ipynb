{
  "nbformat": 4,
  "nbformat_minor": 0,
  "metadata": {
    "colab": {
      "provenance": []
    },
    "kernelspec": {
      "name": "python3",
      "display_name": "Python 3"
    },
    "language_info": {
      "name": "python"
    }
  },
  "cells": [
    {
      "cell_type": "code",
      "execution_count": null,
      "metadata": {
        "colab": {
          "base_uri": "https://localhost:8080/"
        },
        "id": "Fe2qxmFqRXd9",
        "outputId": "fcdf0961-92fa-4ec8-817c-2546f9df2577"
      },
      "outputs": [
        {
          "output_type": "stream",
          "name": "stdout",
          "text": [
            "2\n",
            "PANAS\n"
          ]
        }
      ],
      "source": [
        "#1\n",
        "\n",
        "a = int(input())\n",
        "if a > 4:\n",
        "  print(\"HUJANDERAS\")\n",
        "else:\n",
        "  print(\"PANAS\")"
      ]
    },
    {
      "cell_type": "code",
      "source": [
        "#2\n",
        "\n",
        "n = list(map(int, input().split()))\n",
        "if n[1] % n[0] == 0:\n",
        "  print(\"BISA\")\n",
        "else:\n",
        "  print(\"MAAF\")"
      ],
      "metadata": {
        "colab": {
          "base_uri": "https://localhost:8080/"
        },
        "id": "HFmo1yzgUBJZ",
        "outputId": "dd134dde-3193-4a6a-dbbe-72fe1e2e6bb3"
      },
      "execution_count": null,
      "outputs": [
        {
          "output_type": "stream",
          "name": "stdout",
          "text": [
            "5 3\n",
            "MAAF\n"
          ]
        }
      ]
    },
    {
      "cell_type": "code",
      "source": [
        "#3\n",
        "\n",
        "S1, S2, S3 = input().split()\n",
        "\n",
        "len1 = len(S1)\n",
        "len2 = len(S2)\n",
        "len3 = len(S3)\n",
        "\n",
        "if len1 == len2 or len1 == len3 or len2 == len3:\n",
        "  print(\"Hebwueh\")\n",
        "elif len1 < len2 > len3 or len1 > len2 < len3:\n",
        "  print(\"Yeehaaw\")\n",
        "elif len1 < len2 < len3 or len1 > len2 > len3:\n",
        "  print(\"Woohoohoo\")"
      ],
      "metadata": {
        "colab": {
          "base_uri": "https://localhost:8080/"
        },
        "id": "m9Podt9SVChK",
        "outputId": "d09e6555-0b94-466b-ce31-1b90ad242cd7"
      },
      "execution_count": null,
      "outputs": [
        {
          "output_type": "stream",
          "name": "stdout",
          "text": [
            "ubel makan pedas\n",
            "Hebwueh\n"
          ]
        }
      ]
    },
    {
      "cell_type": "code",
      "source": [
        "#4\n",
        "\n",
        "n = int(input())\n",
        "if n < 899:\n",
        "  print(\"Bronze\")\n",
        "elif 899 < n < 1097:\n",
        "  print(\"Warrior\")\n",
        "elif 1098 < n < 3500:\n",
        "  print(\"Mythic\")\n",
        "elif 3501 < n < 4307:\n",
        "  print(\"Legend\")\n",
        "else:\n",
        "  print(\"Epic\")"
      ],
      "metadata": {
        "colab": {
          "base_uri": "https://localhost:8080/"
        },
        "id": "lqhKqKefeNxP",
        "outputId": "ad59de1b-519e-4b78-d3e4-73d796bd09ff"
      },
      "execution_count": null,
      "outputs": [
        {
          "output_type": "stream",
          "name": "stdout",
          "text": [
            "4308\n",
            "Epic\n"
          ]
        }
      ]
    },
    {
      "cell_type": "code",
      "source": [
        "#5\n",
        "\n",
        "S = input().lower()\n",
        "result = 1\n",
        "for ch in S:\n",
        "  if ch.isalpha():\n",
        "    result *= ord(ch) - ord('a') + 1\n",
        "  elif ch.isdigit():\n",
        "    result *= int(ch)\n",
        "print(result)"
      ],
      "metadata": {
        "colab": {
          "base_uri": "https://localhost:8080/"
        },
        "id": "uKpgmxozfHWY",
        "outputId": "9d9ab4c7-d539-4fdd-d040-876f73909f8c"
      },
      "execution_count": null,
      "outputs": [
        {
          "output_type": "stream",
          "name": "stdout",
          "text": [
            "SDIYBT\n",
            "684000\n"
          ]
        }
      ]
    },
    {
      "cell_type": "code",
      "source": [
        "#6\n",
        "\n",
        "n = int(input())\n",
        "if n % 2 == 0:\n",
        "  total = n * 0.5\n",
        "  print(total)\n",
        "elif n % 2 != 0:\n",
        "  total = n * 0.75\n",
        "  print(total)"
      ],
      "metadata": {
        "colab": {
          "base_uri": "https://localhost:8080/"
        },
        "id": "4LP50qrbpOK5",
        "outputId": "c0957310-f23b-4399-923a-66e1b179d322"
      },
      "execution_count": null,
      "outputs": [
        {
          "output_type": "stream",
          "name": "stdout",
          "text": [
            "2\n",
            "1.0\n"
          ]
        }
      ]
    },
    {
      "cell_type": "code",
      "source": [
        "#7\n",
        "\n",
        "n = int(input())\n",
        "if n % 2 == 0:\n",
        "  first = \"**\"\n",
        "  sec = \"##\"\n",
        "else:\n",
        "  first = \"##\"\n",
        "  sec = \"**\"\n",
        "pattern = (first + sec) * ((n // 4) + 1)\n",
        "result = pattern[:n]\n",
        "print(result)\n"
      ],
      "metadata": {
        "colab": {
          "base_uri": "https://localhost:8080/"
        },
        "id": "J-hvVof1vu6p",
        "outputId": "a17cba01-da76-4ecb-b576-d2564f361700"
      },
      "execution_count": null,
      "outputs": [
        {
          "output_type": "stream",
          "name": "stdout",
          "text": [
            "7\n",
            "##**##*\n"
          ]
        }
      ]
    },
    {
      "cell_type": "code",
      "source": [
        "#8\n",
        "\n",
        "n, m = map(int,input().split())\n",
        "for i in range(n):\n",
        "  for j in range(m):\n",
        "    if i % 2 == 0:\n",
        "      if j % 4 == 0 or j % 4 == 1:\n",
        "        print(\"*\", end=\" \")\n",
        "      else:\n",
        "        print(\"#\", end=\" \")\n",
        "    else:\n",
        "      if j % 4 == 0 or j % 4 == 1:\n",
        "        print(\"#\", end=\" \")\n",
        "      else:\n",
        "        print(\"*\", end=\" \")\n",
        "  print()"
      ],
      "metadata": {
        "colab": {
          "base_uri": "https://localhost:8080/"
        },
        "id": "8aG8QGGc0PWV",
        "outputId": "1f8ca1cf-ff6b-48bc-9e18-fe1ebdd28fac"
      },
      "execution_count": null,
      "outputs": [
        {
          "output_type": "stream",
          "name": "stdout",
          "text": [
            "3 6\n",
            "* * # # * * \n",
            "# # * * # # \n",
            "* * # # * * \n"
          ]
        }
      ]
    },
    {
      "cell_type": "code",
      "source": [
        "#9\n",
        "\n",
        "n = int(input())\n",
        "if n % 2 != 0:\n",
        "    first = '#'\n",
        "    sec = '*'\n",
        "elif n % 2 == 0:\n",
        "    first = '*'\n",
        "    sec = '#'\n",
        "pattern = (first + sec) * ((n // 2) + 1)\n",
        "result = pattern[:n]\n",
        "print(result)"
      ],
      "metadata": {
        "colab": {
          "base_uri": "https://localhost:8080/"
        },
        "id": "2l4DljHK1Vap",
        "outputId": "c3196d97-d934-457f-800e-6898214e4f3d"
      },
      "execution_count": null,
      "outputs": [
        {
          "output_type": "stream",
          "name": "stdout",
          "text": [
            "6\n",
            "*#*#*#\n"
          ]
        }
      ]
    },
    {
      "cell_type": "code",
      "source": [
        "#10\n",
        "\n",
        "n, m = map(int,input().split())\n",
        "for i in range(n):\n",
        "  for j in range(m):\n",
        "    if i % 2 == 0:\n",
        "      if j % 2 == 0:\n",
        "        print(\"*\", end=\"\")\n",
        "      else:\n",
        "        print(\"#\", end=\"\")\n",
        "    else:\n",
        "      if j % 2 == 0:\n",
        "        print(\"#\", end=\"\")\n",
        "      else:\n",
        "        print(\"*\", end=\"\")\n",
        "  print()"
      ],
      "metadata": {
        "colab": {
          "base_uri": "https://localhost:8080/"
        },
        "id": "RxXJPRbO1__H",
        "outputId": "0ee009a1-3cbf-4bc6-e6c9-79c11ff34ebe"
      },
      "execution_count": null,
      "outputs": [
        {
          "output_type": "stream",
          "name": "stdout",
          "text": [
            "3 6\n",
            "*#*#*#\n",
            "#*#*#*\n",
            "*#*#*#\n"
          ]
        }
      ]
    },
    {
      "cell_type": "code",
      "source": [
        "#11\n",
        "\n",
        "n = int(input())\n",
        "for i in range(1, n + 1):\n",
        "  for j in range(1, i + 1):\n",
        "    print(j)"
      ],
      "metadata": {
        "colab": {
          "base_uri": "https://localhost:8080/"
        },
        "id": "QJo2jJQJ2cUa",
        "outputId": "15cd49e1-ceff-442f-f414-2aef68d455ed"
      },
      "execution_count": null,
      "outputs": [
        {
          "output_type": "stream",
          "name": "stdout",
          "text": [
            "3\n",
            "1\n",
            "1\n",
            "2\n",
            "1\n",
            "2\n",
            "3\n"
          ]
        }
      ]
    },
    {
      "cell_type": "code",
      "source": [
        "#12\n",
        "\n",
        "x = input()\n",
        "y = input()\n",
        "for N in range(1, 27):\n",
        "    total_geser = \"\"\n",
        "    for char in x:\n",
        "        if 'a' <= char <= 'z':\n",
        "            geser = (ord(char) - ord('a') + N) % 26 + ord('a')\n",
        "            total_geser += chr(geser)\n",
        "        elif 'A' <= char  <= 'Z':\n",
        "            geser = (ord(char) - ord('A') + N) % 26 + ord('A')\n",
        "            total_geser += chr(geser)\n",
        "        else:\n",
        "            total_geser += char\n",
        "    sandi = total_geser[::-1]\n",
        "    if sandi == y:\n",
        "        print(f\"Silahkan berjalan sejauh {N} Meter\")\n",
        "        break\n",
        "else:\n",
        "    print(\"Mending pulang aja\")"
      ],
      "metadata": {
        "colab": {
          "base_uri": "https://localhost:8080/"
        },
        "id": "LB8blN9f28x5",
        "outputId": "0846a212-f174-4a42-c6b7-c61635616794"
      },
      "execution_count": null,
      "outputs": [
        {
          "output_type": "stream",
          "name": "stdout",
          "text": [
            "yvXjYLoC\n",
            "FrOBmAyb\n",
            "Silahkan berjalan sejauh 3 Meter\n"
          ]
        }
      ]
    }
  ]
}